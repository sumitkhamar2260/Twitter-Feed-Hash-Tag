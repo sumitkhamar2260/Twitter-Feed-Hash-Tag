{
  "nbformat": 4,
  "nbformat_minor": 0,
  "metadata": {
    "colab": {
      "name": "Word Embedding with Glove.ipynb",
      "provenance": []
    },
    "kernelspec": {
      "name": "python3",
      "display_name": "Python 3"
    }
  },
  "cells": [
    {
      "cell_type": "code",
      "metadata": {
        "id": "s3F2GzYAI7Z3",
        "outputId": "a87714e1-5cb1-4606-8fad-538630f9c651",
        "colab": {
          "base_uri": "https://localhost:8080/",
          "height": 67
        }
      },
      "source": [
        "#import glove\n",
        "!pip install glove-python\n",
        "import pandas as pd\n",
        "import re\n"
      ],
      "execution_count": 7,
      "outputs": [
        {
          "output_type": "stream",
          "text": [
            "Requirement already satisfied: glove-python in /usr/local/lib/python3.6/dist-packages (0.1.0)\n",
            "Requirement already satisfied: scipy in /usr/local/lib/python3.6/dist-packages (from glove-python) (1.4.1)\n",
            "Requirement already satisfied: numpy in /usr/local/lib/python3.6/dist-packages (from glove-python) (1.18.5)\n"
          ],
          "name": "stdout"
        }
      ]
    },
    {
      "cell_type": "code",
      "metadata": {
        "id": "qvbhNepzJVIT",
        "outputId": "4234c96c-3417-4e84-f8cb-5673d7449dd4",
        "colab": {
          "base_uri": "https://localhost:8080/",
          "height": 218
        }
      },
      "source": [
        "data = pd.read_csv(\"/content/drive/My Drive/Colab Notebooks/twitter.csv\")\n",
        "Rev_tweet=data[\"text\"]\n",
        "Rev_tweet"
      ],
      "execution_count": 8,
      "outputs": [
        {
          "output_type": "execute_result",
          "data": {
            "text/plain": [
              "0      We may not hit 90° today. \\n\\nMe: A bit bummed...\n",
              "1      Join the CVSCareers team! See our latest job o...\n",
              "2      See a virtual tour of my listing on 146 Buckin...\n",
              "3      Lake Monticello has been selling fast and no w...\n",
              "4      Lake Monticello has been selling fast and no w...\n",
              "                             ...                        \n",
              "921    Shades of #charlottesville https://t.co/b3sSnH...\n",
              "922    @Lmo66Olson These White Nationalists look pret...\n",
              "923    Want to know which #countertop #colors match y...\n",
              "924    @kevinCash__ @TedToddAgency Didn't I see this ...\n",
              "925    @senrobportman With the destruction your chose...\n",
              "Name: text, Length: 926, dtype: object"
            ]
          },
          "metadata": {
            "tags": []
          },
          "execution_count": 8
        }
      ]
    },
    {
      "cell_type": "code",
      "metadata": {
        "id": "DpQE30TZJe5i"
      },
      "source": [
        "\n",
        "def preprocess(text):\n",
        "    clean_data = []\n",
        "    for x in (text[:]): \n",
        "        new_text = re.sub('<.*?>', '', x)   # remove HTML tags\n",
        "        new_text = re.sub(r'[^\\w\\s]', '', new_text) # remove punc.\n",
        "        new_text = re.sub(r'\\d+','',new_text)# remove numbers\n",
        "        new_text = new_text.lower() # lower case, .upper() for upper\n",
        "        emoji_pattern = re.compile(\"[\"\n",
        "        u\"\\U0001F600-\\U0001F64F\"  \n",
        "        u\"\\U0001F300-\\U0001F5FF\" \n",
        "        u\"\\U0001F680-\\U0001F6FF\"  \n",
        "        u\"\\U0001F1E0-\\U0001F1FF\"  \n",
        "                           \"]+\", flags=re.UNICODE)\n",
        "        new_text = emoji_pattern.sub(r'', new_text)         \n",
        "        if new_text != '':\n",
        "            clean_data.append(new_text)\n",
        "    return clean_data"
      ],
      "execution_count": 9,
      "outputs": []
    },
    {
      "cell_type": "code",
      "metadata": {
        "id": "Xzpnsjk3Ji9a",
        "outputId": "02231235-e1a2-49a0-d595-12e3efc49032",
        "colab": {
          "base_uri": "https://localhost:8080/",
          "height": 218
        }
      },
      "source": [
        "data['clean_text']=preprocess(Rev_tweet)\n",
        "data['clean_text']"
      ],
      "execution_count": 10,
      "outputs": [
        {
          "output_type": "execute_result",
          "data": {
            "text/plain": [
              "0      we may not hit  today \\n\\nme a bit bummed if w...\n",
              "1      join the cvscareers team see our latest job op...\n",
              "2      see a virtual tour of my listing on  buckingha...\n",
              "3      lake monticello has been selling fast and no w...\n",
              "4      lake monticello has been selling fast and no w...\n",
              "                             ...                        \n",
              "921          shades of charlottesville httpstcobssnhfxyh\n",
              "922    lmoolson these white nationalists look pretty ...\n",
              "923    want to know which countertop colors match you...\n",
              "924    kevincash__ tedtoddagency didnt i see this guy...\n",
              "925    senrobportman with the destruction your chosen...\n",
              "Name: clean_text, Length: 926, dtype: object"
            ]
          },
          "metadata": {
            "tags": []
          },
          "execution_count": 10
        }
      ]
    },
    {
      "cell_type": "code",
      "metadata": {
        "id": "P4RRVEgGJxty",
        "outputId": "f10cc496-4845-4f58-d053-e4a86397213e",
        "colab": {
          "base_uri": "https://localhost:8080/",
          "height": 218
        }
      },
      "source": [
        "\n",
        "data['clean_tweets'] = data['clean_text'].str.replace(\"[^a-zA-Z#]\", \" \")\n",
        "data['clean_tweets'] = data['clean_tweets'].fillna('').apply(lambda x: ' '.join([w for w in x.split() if len(w)>2]))\n",
        "data['clean_tweets'] = data['clean_tweets'].fillna('').apply(lambda x: x.lower())\n",
        "corpus=data['clean_tweets']\n",
        "data['clean_tweets']"
      ],
      "execution_count": 11,
      "outputs": [
        {
          "output_type": "execute_result",
          "data": {
            "text/plain": [
              "0      may not hit today bit bummed get close the rec...\n",
              "1      join the cvscareers team see our latest job op...\n",
              "2      see virtual tour listing buckingham cir charlo...\n",
              "3      lake monticello has been selling fast and wond...\n",
              "4      lake monticello has been selling fast and wond...\n",
              "                             ...                        \n",
              "921             shades charlottesville httpstcobssnhfxyh\n",
              "922    lmoolson these white nationalists look pretty ...\n",
              "923    want know which countertop colors match your c...\n",
              "924    kevincash tedtoddagency didnt see this guy cha...\n",
              "925    senrobportman with the destruction your chosen...\n",
              "Name: clean_tweets, Length: 926, dtype: object"
            ]
          },
          "metadata": {
            "tags": []
          },
          "execution_count": 11
        }
      ]
    },
    {
      "cell_type": "code",
      "metadata": {
        "id": "Vf1ttl8EJ2yX"
      },
      "source": [
        "# we need to pass splitted sentences to the model\n",
        "tokenized_sentences = [sentence.split() for sentence in corpus]\n",
        "lines=tokenized_sentences\n"
      ],
      "execution_count": 12,
      "outputs": []
    },
    {
      "cell_type": "code",
      "metadata": {
        "id": "_nDs6CmrJ6TZ"
      },
      "source": [
        "#importing the glove library\n",
        "from glove import Corpus, Glove\n",
        "\n",
        "# creating a corpus object\n",
        "corpus = Corpus() \n",
        "\n",
        "#training the corpus to generate the co occurence matrix which is used in GloVe\n",
        "corpus.fit(lines, window=10)"
      ],
      "execution_count": 13,
      "outputs": []
    },
    {
      "cell_type": "code",
      "metadata": {
        "id": "Byw5CqB1KfqL",
        "outputId": "c8a5859d-f9e1-4326-b7e8-1fc229b635b2",
        "colab": {
          "base_uri": "https://localhost:8080/",
          "height": 538
        }
      },
      "source": [
        "glove = Glove(no_components=30, learning_rate=0.05)\n",
        " \n",
        "glove.fit(corpus.matrix, epochs=30, no_threads=4, verbose=True)\n",
        "glove.add_dictionary(corpus.dictionary)\n",
        "glove.save('glove2582020.model')"
      ],
      "execution_count": 14,
      "outputs": [
        {
          "output_type": "stream",
          "text": [
            "Performing 30 training epochs with 4 threads\n",
            "Epoch 0\n",
            "Epoch 1\n",
            "Epoch 2\n",
            "Epoch 3\n",
            "Epoch 4\n",
            "Epoch 5\n",
            "Epoch 6\n",
            "Epoch 7\n",
            "Epoch 8\n",
            "Epoch 9\n",
            "Epoch 10\n",
            "Epoch 11\n",
            "Epoch 12\n",
            "Epoch 13\n",
            "Epoch 14\n",
            "Epoch 15\n",
            "Epoch 16\n",
            "Epoch 17\n",
            "Epoch 18\n",
            "Epoch 19\n",
            "Epoch 20\n",
            "Epoch 21\n",
            "Epoch 22\n",
            "Epoch 23\n",
            "Epoch 24\n",
            "Epoch 25\n",
            "Epoch 26\n",
            "Epoch 27\n",
            "Epoch 28\n",
            "Epoch 29\n"
          ],
          "name": "stdout"
        }
      ]
    },
    {
      "cell_type": "code",
      "metadata": {
        "id": "7p1CH17_Koq6",
        "outputId": "edf93449-c1bd-4853-d8a7-73f33631988b",
        "colab": {
          "base_uri": "https://localhost:8080/",
          "height": 101
        }
      },
      "source": [
        "print(glove.word_vectors[glove.dictionary['charlottesville']])"
      ],
      "execution_count": 15,
      "outputs": [
        {
          "output_type": "stream",
          "text": [
            "[-0.77525623 -0.41959002 -0.42787168 -0.60267442 -0.48275117 -0.39998987\n",
            " -0.74928486  0.18663053  0.33594349 -0.09711931  0.18658277  0.0153805\n",
            "  0.29281188 -0.53149738 -0.37806047 -0.38752667 -0.53978688 -0.43838192\n",
            "  0.14967969  0.09293558  0.60366392 -0.55866476  0.32895256  0.23834919\n",
            " -0.60646464 -0.47827727 -0.36381529  0.14086113  0.76466182 -0.79999142]\n"
          ],
          "name": "stdout"
        }
      ]
    },
    {
      "cell_type": "code",
      "metadata": {
        "id": "mqcZR4HYKyZ6"
      },
      "source": [
        "import warnings\n",
        "warnings.filterwarnings('ignore')"
      ],
      "execution_count": 16,
      "outputs": []
    },
    {
      "cell_type": "code",
      "metadata": {
        "id": "9UtyJZyiK1bk"
      },
      "source": [
        "from gensim.models.word2vec import Word2Vec\n",
        "import gensim.downloader as api"
      ],
      "execution_count": 17,
      "outputs": []
    },
    {
      "cell_type": "code",
      "metadata": {
        "id": "0P6Y38pnK4_L",
        "outputId": "201ed0f3-546b-4fdc-9de7-b0a2bb561ec4",
        "colab": {
          "base_uri": "https://localhost:8080/",
          "height": 353
        }
      },
      "source": [
        "!wget http://nlp.stanford.edu/data/glove.6B.zip"
      ],
      "execution_count": 18,
      "outputs": [
        {
          "output_type": "stream",
          "text": [
            "--2020-09-30 13:20:11--  http://nlp.stanford.edu/data/glove.6B.zip\n",
            "Resolving nlp.stanford.edu (nlp.stanford.edu)... 171.64.67.140\n",
            "Connecting to nlp.stanford.edu (nlp.stanford.edu)|171.64.67.140|:80... connected.\n",
            "HTTP request sent, awaiting response... 302 Found\n",
            "Location: https://nlp.stanford.edu/data/glove.6B.zip [following]\n",
            "--2020-09-30 13:20:11--  https://nlp.stanford.edu/data/glove.6B.zip\n",
            "Connecting to nlp.stanford.edu (nlp.stanford.edu)|171.64.67.140|:443... connected.\n",
            "HTTP request sent, awaiting response... 301 Moved Permanently\n",
            "Location: http://downloads.cs.stanford.edu/nlp/data/glove.6B.zip [following]\n",
            "--2020-09-30 13:20:11--  http://downloads.cs.stanford.edu/nlp/data/glove.6B.zip\n",
            "Resolving downloads.cs.stanford.edu (downloads.cs.stanford.edu)... 171.64.64.22\n",
            "Connecting to downloads.cs.stanford.edu (downloads.cs.stanford.edu)|171.64.64.22|:80... connected.\n",
            "HTTP request sent, awaiting response... 200 OK\n",
            "Length: 862182613 (822M) [application/zip]\n",
            "Saving to: ‘glove.6B.zip’\n",
            "\n",
            "glove.6B.zip        100%[===================>] 822.24M  2.08MB/s    in 6m 28s  \n",
            "\n",
            "2020-09-30 13:26:39 (2.12 MB/s) - ‘glove.6B.zip’ saved [862182613/862182613]\n",
            "\n"
          ],
          "name": "stdout"
        }
      ]
    },
    {
      "cell_type": "code",
      "metadata": {
        "id": "NgXLrn4iK5dP",
        "outputId": "bdd94da7-e60a-4cd4-acb6-0a05e037b8f7",
        "colab": {
          "base_uri": "https://localhost:8080/",
          "height": 101
        }
      },
      "source": [
        "!unzip glove*.zip"
      ],
      "execution_count": 19,
      "outputs": [
        {
          "output_type": "stream",
          "text": [
            "Archive:  glove.6B.zip\n",
            "  inflating: glove.6B.50d.txt        \n",
            "  inflating: glove.6B.100d.txt       \n",
            "  inflating: glove.6B.200d.txt       \n",
            "  inflating: glove.6B.300d.txt       \n"
          ],
          "name": "stdout"
        }
      ]
    },
    {
      "cell_type": "code",
      "metadata": {
        "id": "BaSM3TFnMcYK",
        "outputId": "f03c54af-1555-4eef-daf7-c41caf952a3e",
        "colab": {
          "base_uri": "https://localhost:8080/",
          "height": 50
        }
      },
      "source": [
        "!ls\n",
        "#!pwd"
      ],
      "execution_count": 20,
      "outputs": [
        {
          "output_type": "stream",
          "text": [
            "drive\t\t    glove.6B.100d.txt  glove.6B.300d.txt  glove.6B.zip\n",
            "glove2582020.model  glove.6B.200d.txt  glove.6B.50d.txt   sample_data\n"
          ],
          "name": "stdout"
        }
      ]
    },
    {
      "cell_type": "code",
      "metadata": {
        "id": "VwdoitW3MnHu",
        "outputId": "75a1e375-482d-4c83-9717-f017a2cead72",
        "colab": {
          "base_uri": "https://localhost:8080/",
          "height": 50
        }
      },
      "source": [
        "import numpy as np\n",
        "\n",
        "print('Indexing word vectors.')\n",
        "\n",
        "embeddings_index = {}\n",
        "f = open('glove.6B.100d.txt', encoding='utf-8')\n",
        "for line in f:\n",
        "    values = line.split()\n",
        "    word = values[0]\n",
        "    coefs = np.asarray(values[1:], dtype='float32')\n",
        "    embeddings_index[word] = coefs\n",
        "f.close()\n",
        "\n",
        "print('Found %s word vectors.' % len(embeddings_index))"
      ],
      "execution_count": 21,
      "outputs": [
        {
          "output_type": "stream",
          "text": [
            "Indexing word vectors.\n",
            "Found 400000 word vectors.\n"
          ],
          "name": "stdout"
        }
      ]
    },
    {
      "cell_type": "code",
      "metadata": {
        "id": "9Qjz2wA3MrGm",
        "outputId": "5998f623-3b3d-4237-a5e2-98612abfe129",
        "colab": {
          "base_uri": "https://localhost:8080/",
          "height": 370
        }
      },
      "source": [
        " embeddings_index['sumit'] "
      ],
      "execution_count": 22,
      "outputs": [
        {
          "output_type": "execute_result",
          "data": {
            "text/plain": [
              "array([-0.22346  , -0.0046093, -0.35509  , -0.12802  , -0.57656  ,\n",
              "       -0.61651  , -0.017871 , -0.078319 ,  0.037545 , -0.12452  ,\n",
              "       -0.08473  ,  0.20557  , -0.38421  ,  0.14072  , -0.27701  ,\n",
              "        0.40572  , -0.6434   ,  0.19602  ,  0.040058 , -0.39087  ,\n",
              "       -0.29411  ,  0.39002  , -0.035206 ,  0.12835  ,  0.32015  ,\n",
              "        0.064393 , -0.40335  ,  0.10178  ,  0.25957  , -0.12093  ,\n",
              "       -0.56224  ,  0.3227   , -0.43683  ,  0.085539 , -0.21521  ,\n",
              "       -0.11481  ,  0.49768  , -0.36439  ,  0.39707  , -0.40501  ,\n",
              "       -0.34083  ,  0.3329   ,  0.17458  , -0.14966  , -0.20794  ,\n",
              "       -0.16518  ,  0.2183   ,  0.34057  , -0.48181  ,  0.7718   ,\n",
              "       -0.28158  , -0.12267  ,  0.20043  , -0.36395  ,  0.22672  ,\n",
              "        0.5467   , -0.35818  ,  0.11201  , -0.64239  , -0.52344  ,\n",
              "       -0.40039  ,  0.17156  ,  0.31276  , -0.12651  , -0.51659  ,\n",
              "        0.23123  ,  0.44735  ,  0.46149  ,  0.26624  , -0.029281 ,\n",
              "       -0.016502 ,  0.22059  ,  0.35481  ,  0.021648 , -0.031116 ,\n",
              "        0.57974  , -0.62964  , -0.40772  , -0.096389 , -0.005434 ,\n",
              "       -0.60837  ,  0.02915  ,  0.066002 , -0.33466  ,  0.33328  ,\n",
              "       -0.00877  ,  0.34825  ,  0.060165 , -0.15078  , -0.057432 ,\n",
              "       -0.010706 ,  0.12724  ,  0.16095  , -0.69997  ,  0.65404  ,\n",
              "       -0.16963  ,  0.0040408,  0.0068589, -0.5637   ,  0.25248  ],\n",
              "      dtype=float32)"
            ]
          },
          "metadata": {
            "tags": []
          },
          "execution_count": 22
        }
      ]
    },
    {
      "cell_type": "code",
      "metadata": {
        "id": "2y_Vbh13M1YA",
        "outputId": "a66b1f2a-a62c-4959-a723-ddfe736a3d66",
        "colab": {
          "base_uri": "https://localhost:8080/",
          "height": 50
        }
      },
      "source": [
        "ls"
      ],
      "execution_count": 26,
      "outputs": [
        {
          "output_type": "stream",
          "text": [
            "\u001b[0m\u001b[01;34mdrive\u001b[0m/              glove.6B.100d.txt  glove.6B.300d.txt  glove.6B.zip\n",
            "glove2582020.model  glove.6B.200d.txt  glove.6B.50d.txt   \u001b[01;34msample_data\u001b[0m/\n"
          ],
          "name": "stdout"
        }
      ]
    },
    {
      "cell_type": "code",
      "metadata": {
        "id": "o5Qv4yDJNUKt"
      },
      "source": [
        "from gensim.test.utils import datapath, get_tmpfile\n",
        "from gensim.models import KeyedVectors\n",
        "from gensim.scripts.glove2word2vec import glove2word2vec"
      ],
      "execution_count": 27,
      "outputs": []
    },
    {
      "cell_type": "code",
      "metadata": {
        "id": "sZAR1FYVNYLP",
        "outputId": "952a756a-d00b-43ff-d4ab-504b675fd3be",
        "colab": {
          "base_uri": "https://localhost:8080/",
          "height": 34
        }
      },
      "source": [
        "glove_file = datapath('/content/glove.6B.100d.txt')\n",
        "word2vec_glove_file = get_tmpfile(\"glove.6B.100d.word2vec.txt\")\n",
        "glove2word2vec(glove_file, word2vec_glove_file)"
      ],
      "execution_count": 28,
      "outputs": [
        {
          "output_type": "execute_result",
          "data": {
            "text/plain": [
              "(400000, 100)"
            ]
          },
          "metadata": {
            "tags": []
          },
          "execution_count": 28
        }
      ]
    },
    {
      "cell_type": "code",
      "metadata": {
        "id": "bUEpgVFwNbHG"
      },
      "source": [
        "model = KeyedVectors.load_word2vec_format(word2vec_glove_file)"
      ],
      "execution_count": 29,
      "outputs": []
    },
    {
      "cell_type": "code",
      "metadata": {
        "id": "n7NN3Ek3Neyu",
        "outputId": "b40ab004-7cfa-4b81-8c1e-4d1beeed50ac",
        "colab": {
          "base_uri": "https://localhost:8080/",
          "height": 185
        }
      },
      "source": [
        "model.most_similar('obama')"
      ],
      "execution_count": 30,
      "outputs": [
        {
          "output_type": "execute_result",
          "data": {
            "text/plain": [
              "[('barack', 0.937216579914093),\n",
              " ('bush', 0.927285373210907),\n",
              " ('clinton', 0.8960003852844238),\n",
              " ('mccain', 0.8875633478164673),\n",
              " ('gore', 0.8000321388244629),\n",
              " ('hillary', 0.7933663129806519),\n",
              " ('dole', 0.7851964235305786),\n",
              " ('rodham', 0.751889705657959),\n",
              " ('romney', 0.7488929629325867),\n",
              " ('kerry', 0.7472623586654663)]"
            ]
          },
          "metadata": {
            "tags": []
          },
          "execution_count": 30
        }
      ]
    },
    {
      "cell_type": "code",
      "metadata": {
        "id": "fbjZWwQ4NtOf",
        "outputId": "21e76ad9-8946-4355-f9cc-d7650c33462b",
        "colab": {
          "base_uri": "https://localhost:8080/",
          "height": 185
        }
      },
      "source": [
        "model.most_similar('banana')"
      ],
      "execution_count": 31,
      "outputs": [
        {
          "output_type": "execute_result",
          "data": {
            "text/plain": [
              "[('coconut', 0.7097253799438477),\n",
              " ('mango', 0.7054824233055115),\n",
              " ('bananas', 0.6887733936309814),\n",
              " ('potato', 0.6629636287689209),\n",
              " ('pineapple', 0.6534532904624939),\n",
              " ('fruit', 0.6519855260848999),\n",
              " ('peanut', 0.6420576572418213),\n",
              " ('pecan', 0.6349173188209534),\n",
              " ('cashew', 0.6294420957565308),\n",
              " ('papaya', 0.6246591210365295)]"
            ]
          },
          "metadata": {
            "tags": []
          },
          "execution_count": 31
        }
      ]
    },
    {
      "cell_type": "code",
      "metadata": {
        "id": "mbZ4ARobNv-d",
        "outputId": "ddb0c00f-ee65-431a-8757-9c13bdf66920",
        "colab": {
          "base_uri": "https://localhost:8080/",
          "height": 202
        }
      },
      "source": [
        "model.most_similar(negative='banana')"
      ],
      "execution_count": 32,
      "outputs": [
        {
          "output_type": "execute_result",
          "data": {
            "text/plain": [
              "[('keyrates', 0.7173938751220703),\n",
              " ('sungrebe', 0.7119239568710327),\n",
              " ('þórður', 0.7067720890045166),\n",
              " ('zety', 0.7056615352630615),\n",
              " ('23aou94', 0.6959497928619385),\n",
              " ('___________________________________________________________',\n",
              "  0.694915235042572),\n",
              " ('elymians', 0.6945434212684631),\n",
              " ('camarina', 0.6927202939987183),\n",
              " ('ryryryryryry', 0.6905653476715088),\n",
              " ('maurilio', 0.6865653395652771)]"
            ]
          },
          "metadata": {
            "tags": []
          },
          "execution_count": 32
        }
      ]
    },
    {
      "cell_type": "code",
      "metadata": {
        "id": "0yw9yhmcNzAm",
        "outputId": "442b7bba-27da-4851-838b-38e9e4f97d34",
        "colab": {
          "base_uri": "https://localhost:8080/",
          "height": 34
        }
      },
      "source": [
        "result = model.most_similar(positive=['woman', 'king'], negative=['man'])\n",
        "print(\"{}: {:.4f}\".format(*result[0]))"
      ],
      "execution_count": 33,
      "outputs": [
        {
          "output_type": "stream",
          "text": [
            "queen: 0.7699\n"
          ],
          "name": "stdout"
        }
      ]
    },
    {
      "cell_type": "code",
      "metadata": {
        "id": "9mly6epCN2Wm"
      },
      "source": [
        ""
      ],
      "execution_count": null,
      "outputs": []
    }
  ]
}
